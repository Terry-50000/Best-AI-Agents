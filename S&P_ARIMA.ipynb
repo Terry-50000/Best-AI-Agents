{
  "nbformat": 4,
  "nbformat_minor": 0,
  "metadata": {
    "colab": {
      "provenance": [],
      "authorship_tag": "ABX9TyPU0xK28ynMRXwoMTT96En/",
      "include_colab_link": true
    },
    "kernelspec": {
      "name": "python3",
      "display_name": "Python 3"
    },
    "language_info": {
      "name": "python"
    }
  },
  "cells": [
    {
      "cell_type": "markdown",
      "metadata": {
        "id": "view-in-github",
        "colab_type": "text"
      },
      "source": [
        "<a href=\"https://colab.research.google.com/github/Terry-50000/Best-AI-Agents/blob/main/S%26P_ARIMA.ipynb\" target=\"_parent\"><img src=\"https://colab.research.google.com/assets/colab-badge.svg\" alt=\"Open In Colab\"/></a>"
      ]
    },
    {
      "cell_type": "code",
      "source": [
        "import numpy as np\n",
        "import pandas as pd\n",
        "import datetime as dt\n",
        "import yfinance as yf\n",
        "from statsmodels.tsa.arima.model import ARIMA\n",
        "from pandas import DataFrame\n",
        "from sklearn.metrics import mean_squared_error\n",
        "import matplotlib.pyplot as plt"
      ],
      "metadata": {
        "id": "PSdlnze4ZeHK"
      },
      "execution_count": 44,
      "outputs": []
    },
    {
      "cell_type": "code",
      "source": [
        "df = pd.DataFrame()\n",
        "df = yf.download('^GSPC', period='60d', interval='5m')\n",
        "series = df['Close']"
      ],
      "metadata": {
        "colab": {
          "base_uri": "https://localhost:8080/"
        },
        "id": "TYR2LITHZtdY",
        "outputId": "66e9c95c-61ba-44c0-d934-1fbd0e4ddfb7"
      },
      "execution_count": 49,
      "outputs": [
        {
          "output_type": "stream",
          "name": "stderr",
          "text": [
            "\r[*********************100%%**********************]  1 of 1 completed\n"
          ]
        }
      ]
    },
    {
      "cell_type": "code",
      "source": [
        "# X = series.values\n",
        "# size = int(len(X) * 0.9)\n",
        "# train, test = X[0:size], X[size:len(X)]\n",
        "# history = [x for x in train]\n",
        "# predictions = list()\n",
        "# for t in range(len(test)):\n",
        "#     model = ARIMA(history, order=(5,1,0))\n",
        "#     model_fit = model.fit()\n",
        "#     output = model_fit.forecast()\n",
        "#     yhat = output[0]\n",
        "#     predictions.append(yhat)\n",
        "#     obs = test[t]\n",
        "#     history.append(obs)\n",
        "\n",
        "# df['ARIMA'] = pd.DataFrame(predictions)\n",
        "# error = mean_squared_error(test, predictions)\n",
        "# print('Test MSE: %.3f' % error)\n",
        "# plt.figure(figsize=(12, 6), dpi=100)\n",
        "# plt.plot(test, color='black', label='Real')\n",
        "# plt.plot(predictions, color='yellow', label='Predicted')\n",
        "# plt.xlabel('Time')\n",
        "# plt.ylabel('USD')\n",
        "# plt.title('Figure 5: ARIMA model on S&P 500 index')\n",
        "# plt.legend()\n",
        "# plt.show()"
      ],
      "metadata": {
        "colab": {
          "base_uri": "https://localhost:8080/"
        },
        "id": "GIWAkajapZDY",
        "outputId": "c1b0b37a-60ba-4b28-d276-b563d23d85ba"
      },
      "execution_count": 30,
      "outputs": [
        {
          "output_type": "stream",
          "name": "stdout",
          "text": [
            "Test MSE: 17.188\n"
          ]
        }
      ]
    },
    {
      "cell_type": "code",
      "source": [
        "S = series.values\n",
        "def predict_six(data):\n",
        "  input = [x for x in data]\n",
        "  NextClose = list()\n",
        "  for i in range(1,7):\n",
        "    amy = ARIMA(input, order = (5, 1, 0))\n",
        "    amyfit = amy.fit()\n",
        "    nextcloseprice = amyfit.forecast()\n",
        "    NextClose.append(nextcloseprice[0])\n",
        "    input.append(nextcloseprice[0])\n",
        "  return(NextClose)\n",
        "print(predict_six(S))"
      ],
      "metadata": {
        "colab": {
          "base_uri": "https://localhost:8080/"
        },
        "id": "3ZXmK00pwhpB",
        "outputId": "d52458b5-997f-4182-fd56-406bf5dc8ce6"
      },
      "execution_count": 50,
      "outputs": [
        {
          "output_type": "stream",
          "name": "stdout",
          "text": [
            "[5305.337284263142, 5305.092689671259, 5305.0637007327, 5304.925644619092, 5304.894549167799, 5304.909415423133]\n"
          ]
        }
      ]
    },
    {
      "cell_type": "code",
      "source": [
        "def direction_test(actual, predicted):\n",
        "    actual_diff = np.diff(actual)\n",
        "    actual_signs = np.sign(actual_diff)\n",
        "    predicted_diff = np.diff(predicted)\n",
        "    predicted_signs = np.sign(predicted_diff)\n",
        "\n",
        "    # Count the number of times the signs are the same\n",
        "    num_correct = np.sum(actual_signs == predicted_signs)\n",
        "\n",
        "    return num_correct/5*100\n",
        "X = series.values\n",
        "size = int(len(X) * 0.985)\n",
        "train, test = X[0:size], X[size:len(X)]\n",
        "history = [x for x in train]\n",
        "b =0\n",
        "bm = 0.0\n",
        "print(len(test)-10)\n",
        "for t in range(len(test)-10):\n",
        "  pred = predict_six(history)\n",
        "  real = test[t:t+6]\n",
        "  a = direction_test(pred, real)\n",
        "  print(f\"direction_test{t+1}:\", a)\n",
        "  am = mean_squared_error(pred, real)\n",
        "  print(am)\n",
        "  bm += am\n",
        "  b += a\n",
        "  history.append(test[t])\n",
        "print(\"direcrion_val:\", b/(len(test)-10))\n",
        "print(bm/(len(test)-10))"
      ],
      "metadata": {
        "colab": {
          "base_uri": "https://localhost:8080/"
        },
        "id": "jaNG9QT0znah",
        "outputId": "dbceeb0b-8a21-4f90-b84c-11076b89fc6a"
      },
      "execution_count": 54,
      "outputs": [
        {
          "output_type": "stream",
          "name": "stdout",
          "text": [
            "60\n",
            "direction_test1: 60.0\n",
            "4.481854525179986\n",
            "direction_test2: 20.0\n",
            "3.9689522155740398\n",
            "direction_test3: 20.0\n",
            "2.5976774682981247\n",
            "direction_test4: 60.0\n",
            "13.00483196113943\n",
            "direction_test5: 80.0\n",
            "7.9031801043204055\n",
            "direction_test6: 100.0\n",
            "5.812151473052826\n",
            "direction_test7: 80.0\n",
            "0.7437667087548204\n",
            "direction_test8: 60.0\n",
            "0.48333548694400497\n",
            "direction_test9: 40.0\n",
            "0.8556857557761429\n",
            "direction_test10: 40.0\n",
            "1.2700093620585589\n",
            "direction_test11: 60.0\n",
            "1.707791042906499\n",
            "direction_test12: 80.0\n",
            "1.164454652265805\n",
            "direction_test13: 100.0\n",
            "1.5074921621518558\n",
            "direction_test14: 20.0\n",
            "4.35228105887077\n",
            "direction_test15: 40.0\n",
            "4.276649991731514\n",
            "direction_test16: 20.0\n",
            "3.9073760237704653\n",
            "direction_test17: 40.0\n",
            "4.365342509790175\n",
            "direction_test18: 20.0\n",
            "2.0041407242680513\n",
            "direction_test19: 20.0\n",
            "16.668838504812268\n",
            "direction_test20: 0.0\n",
            "59.48718763506141\n",
            "direction_test21: 40.0\n",
            "87.8773079464152\n",
            "direction_test22: 20.0\n",
            "109.80480022851951\n",
            "direction_test23: 80.0\n",
            "97.92902625510821\n",
            "direction_test24: 40.0\n",
            "124.75529668987781\n",
            "direction_test25: 80.0\n",
            "38.48658298530015\n",
            "direction_test26: 40.0\n",
            "10.342346408807323\n",
            "direction_test27: 40.0\n",
            "19.363292710929436\n",
            "direction_test28: 60.0\n",
            "42.14059420184847\n",
            "direction_test29: 20.0\n",
            "148.8221491087477\n",
            "direction_test30: 40.0\n",
            "47.6668553059647\n",
            "direction_test31: 60.0\n",
            "120.77582818625537\n",
            "direction_test32: 80.0\n",
            "127.58748831736533\n",
            "direction_test33: 80.0\n",
            "98.98998627090168\n",
            "direction_test34: 80.0\n",
            "26.94400475315369\n",
            "direction_test35: 80.0\n",
            "22.779632644694043\n",
            "direction_test36: 80.0\n",
            "26.61097666522693\n",
            "direction_test37: 40.0\n",
            "41.82912697665117\n",
            "direction_test38: 60.0\n",
            "66.71647539323078\n",
            "direction_test39: 40.0\n",
            "8.726777346847273\n",
            "direction_test40: 40.0\n",
            "15.385632899853732\n",
            "direction_test41: 60.0\n",
            "7.462760630728236\n",
            "direction_test42: 40.0\n",
            "17.67084537942353\n",
            "direction_test43: 80.0\n",
            "20.379030516372946\n",
            "direction_test44: 60.0\n",
            "23.41947245647226\n",
            "direction_test45: 60.0\n",
            "78.27143632729354\n",
            "direction_test46: 40.0\n",
            "15.31855161501428\n",
            "direction_test47: 40.0\n",
            "30.440541284068672\n",
            "direction_test48: 60.0\n",
            "137.20900194105886\n",
            "direction_test49: 40.0\n",
            "263.18664596402704\n",
            "direction_test50: 40.0\n",
            "510.5627814738616\n",
            "direction_test51: 80.0\n",
            "721.0947741034255\n",
            "direction_test52: 20.0\n",
            "565.0082659737512\n",
            "direction_test53: 20.0\n",
            "271.81722556213896\n",
            "direction_test54: 60.0\n",
            "235.82954840115312\n",
            "direction_test55: 40.0\n",
            "276.3726270912339\n",
            "direction_test56: 60.0\n",
            "274.0316506174542\n",
            "direction_test57: 60.0\n",
            "76.50485737538337\n",
            "direction_test58: 40.0\n",
            "33.63187739756078\n",
            "direction_test59: 60.0\n",
            "26.30218245123042\n",
            "direction_test60: 80.0\n",
            "18.660487851838738\n",
            "direcrion_val: 51.666666666666664\n",
            "83.78786241793192\n"
          ]
        }
      ]
    }
  ]
}